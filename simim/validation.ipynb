{
 "cells": [
  {
   "cell_type": "code",
   "execution_count": 1,
   "id": "2fe017b3",
   "metadata": {},
   "outputs": [],
   "source": [
    "import numpy as np\n",
    "import matplotlib.pyplot as plt"
   ]
  },
  {
   "cell_type": "code",
   "execution_count": 2,
   "id": "a0e50384",
   "metadata": {},
   "outputs": [],
   "source": [
    "data = np.load(\"../outs/power_spectra_ensemble.npz\", allow_pickle=True)"
   ]
  },
  {
   "cell_type": "code",
   "execution_count": 3,
   "id": "5673e900",
   "metadata": {},
   "outputs": [
    {
     "data": {
      "text/plain": [
       "['k',\n",
       " 'seeds',\n",
       " 'ps_cii',\n",
       " 'ps_hi',\n",
       " 'ps_co',\n",
       " 'ps_cross_hi',\n",
       " 'ps_cross_co',\n",
       " 'ps_cross_cohi',\n",
       " 'means_and_densities',\n",
       " 'n_realizations',\n",
       " 'random_seed_base',\n",
       " 'z_modeling',\n",
       " 'grid_resolution',\n",
       " 'CO_line']"
      ]
     },
     "execution_count": 3,
     "metadata": {},
     "output_type": "execute_result"
    }
   ],
   "source": [
    "list(data.keys())"
   ]
  },
  {
   "cell_type": "code",
   "execution_count": 6,
   "id": "009bad5f",
   "metadata": {},
   "outputs": [
    {
     "name": "stdout",
     "output_type": "stream",
     "text": [
      "10\n"
     ]
    }
   ],
   "source": [
    "all_realizs = data['means_and_densities']\n",
    "print(len(all_realizs))\n",
    "\n",
    "sfr_behroozi_density = []\n",
    "mass_HI_density = []\n",
    "mean_CII_intensity = []\n",
    "\n",
    "for realiz in all_realizs:\n",
    "    sfr_behroozi_density.append(realiz['props']['sfr_behroozi']['density'])\n",
    "    mass_HI_density.append(realiz['props']['MHI']['density'])\n",
    "    mean_CII_intensity.append(realiz['lines']['LCII']['meanInu_Jy/str'])"
   ]
  },
  {
   "cell_type": "code",
   "execution_count": 7,
   "id": "d00b0071",
   "metadata": {},
   "outputs": [
    {
     "name": "stdout",
     "output_type": "stream",
     "text": [
      "SFR Density (Behroozi et al 2013)\n",
      "Mean: 7.08e-02\n",
      "Std: 2.54e-04\n",
      "\n",
      "HI mass (Padmanabhan et al 2017)\n",
      "Mean: 6.73e+07\n",
      "Std: 1.12e+07\n",
      "\n",
      "CII intensity (Delooze et al 2014)\n",
      "Mean: 3.26e+05\n",
      "Std: 1.56e+05\n",
      "\n"
     ]
    }
   ],
   "source": [
    "# print means and std\n",
    "\n",
    "print(\"SFR Density (Behroozi et al 2013)\")\n",
    "print(\"Mean:\", f\"{np.mean(sfr_behroozi_density):.2e}\")\n",
    "print(\"Std:\", f\"{np.std(sfr_behroozi_density):.2e}\")\n",
    "print()\n",
    "\n",
    "print(\"HI mass (Padmanabhan et al 2017)\")\n",
    "print(\"Mean:\", f\"{np.mean(mass_HI_density):.2e}\")\n",
    "print(\"Std:\", f\"{np.std(mass_HI_density):.2e}\")\n",
    "print()\n",
    "\n",
    "print(\"CII intensity (Delooze et al 2014)\")\n",
    "print(\"Mean:\", f\"{np.mean(mean_CII_intensity):.2e}\")\n",
    "print(\"Std:\", f\"{np.std(mean_CII_intensity):.2e}\")\n",
    "print()"
   ]
  },
  {
   "cell_type": "code",
   "execution_count": null,
   "id": "0be9b29d",
   "metadata": {},
   "outputs": [],
   "source": []
  }
 ],
 "metadata": {
  "kernelspec": {
   "display_name": "lim",
   "language": "python",
   "name": "python3"
  },
  "language_info": {
   "codemirror_mode": {
    "name": "ipython",
    "version": 3
   },
   "file_extension": ".py",
   "mimetype": "text/x-python",
   "name": "python",
   "nbconvert_exporter": "python",
   "pygments_lexer": "ipython3",
   "version": "3.11.0"
  }
 },
 "nbformat": 4,
 "nbformat_minor": 5
}
