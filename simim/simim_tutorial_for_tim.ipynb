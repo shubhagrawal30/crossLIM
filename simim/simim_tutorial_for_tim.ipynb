{
 "cells": [
  {
   "cell_type": "code",
   "execution_count": 2,
   "metadata": {},
   "outputs": [],
   "source": [
    "import numpy as np\n",
    "\n",
    "import matplotlib.pyplot as plt\n",
    "from matplotlib import colormaps\n",
    "from matplotlib.colors import Normalize\n",
    "\n",
    "# Make plots look the way I like\n",
    "from matplotlib import rcParams\n",
    "from simim._pltsetup import pltsty\n",
    "rcParams.update(pltsty)"
   ]
  },
  {
   "cell_type": "markdown",
   "metadata": {},
   "source": [
    "# Downloading Data"
   ]
  },
  {
   "cell_type": "markdown",
   "metadata": {},
   "source": [
    "Minimal dataset to use for this tutorial - snapshots from TNG100-3-Dark spaced in billion year intervals:"
   ]
  },
  {
   "cell_type": "code",
   "execution_count": null,
   "metadata": {},
   "outputs": [],
   "source": [
    "from simim.siminterface import IllustrisCatalogs\n",
    "\n",
    "api_key = '07e2073a308296154fc216ae62145316'\n",
    "tng = IllustrisCatalogs('TNG100-3-Dark',api_key, snaps=[0,11,23,30,36,43,50,56,62,68,75,81,87,93,99])\n",
    "tng.download_meta(redownload=True) # Redownload metadata any time you use a different set of snapshots\n",
    "tng.download()\n",
    "tng.format(basic=True)"
   ]
  },
  {
   "cell_type": "markdown",
   "metadata": {},
   "source": [
    "Recommended download sequence for whole TNG100-3-Dark catalog:"
   ]
  },
  {
   "cell_type": "code",
   "execution_count": null,
   "metadata": {},
   "outputs": [],
   "source": [
    "from simim.siminterface import IllustrisCatalogs\n",
    "\n",
    "api_key = ''\n",
    "tng = IllustrisCatalogs('TNG100-3-Dark',api_key) # Automatically assumes all snaps\n",
    "tng.download_meta(redownload=True) # Redownload metadata any time you use a different set of snapshots\n",
    "tng.download()\n",
    "tng.format() # basic flag isn't set, so more properties are saved"
   ]
  },
  {
   "cell_type": "markdown",
   "metadata": {},
   "source": [
    "Recommended download sequence for TNG300-1 (full hydro model, larger box, better mass resolution):"
   ]
  },
  {
   "cell_type": "code",
   "execution_count": null,
   "metadata": {},
   "outputs": [],
   "source": [
    "from simim.siminterface import IllustrisCatalogs\n",
    "\n",
    "api_key = ''\n",
    "tng = IllustrisCatalogs('TNG300-1-Dark',api_key) # Automatically assumes all snaps\n",
    "tng.download_meta(redownload=True) # Redownload metadata any time you use a different set of snapshots\n",
    "tng.download()\n",
    "tng.format() # basic flag isn't set, so more properties are saved"
   ]
  },
  {
   "cell_type": "markdown",
   "metadata": {},
   "source": [
    "Recommended download sequence for Bolshoi-Planck + UniverseMachine catalogs (different simulation, larger box, galaxies from semi-emperical model):"
   ]
  },
  {
   "cell_type": "code",
   "execution_count": null,
   "metadata": {},
   "outputs": [
    {
     "name": "stderr",
     "output_type": "stream",
     "text": [
      "/Users/shubh/Library/CloudStorage/OneDrive-PennO365/TIM/crossLIM/simim_public/simim/siminterface/_rawsiminterface.py:289: UserWarning: No meta data for this simulation is available - run .download_meta\n",
      "  warnings.warn(\"No meta data for this simulation is available - run .download_meta\")\n",
      "/Users/shubh/Library/CloudStorage/OneDrive-PennO365/TIM/crossLIM/simim_public/simim/siminterface/universemachine.py:201: UserWarning: No data exists for snapshots [0, 1, 2, 3, 4, 5, 6, 7, 8, 9, 10, 11, 12, 13, 14, 15, 16, 17, 18, 19, 20, 21, 22, 23, 24, 25, 26, 27, 28, 29, 30, 31, 32, 33, 34, 35, 36, 37, 38, 39, 40, 41, 42, 43, 44, 45, 46, 47, 48, 49, 50, 51, 52, 53, 54, 55, 56, 57, 58, 59, 60, 61, 62, 63, 64, 65, 66, 67, 68, 69, 70, 71, 72, 73, 74, 75, 76, 77, 78, 79, 80, 81, 82, 83, 84, 85, 86, 87, 88, 89, 90, 91, 92, 93, 94, 95, 96, 97, 98, 99, 100, 101, 102, 103, 104, 105, 106, 107, 108, 109, 110, 111, 112, 113, 114, 115, 116, 117, 118, 119, 120, 121, 122, 123, 124, 125, 126, 127, 128, 129, 130, 131, 132, 133, 134, 135, 136, 137, 138, 139, 140, 141, 142, 143, 144, 145, 146, 147, 148, 149, 150, 151, 152, 153, 154, 155, 156, 157, 158, 159, 160, 161, 162, 163, 164, 165, 166, 167, 168, 169, 170, 171, 172, 173, 174, 175, 176, 177] - run .download\n",
      "  warnings.warn(\"No data exists for snapshots {} - run .download\".format(not_downloaded))\n"
     ]
    },
    {
     "name": "stdout",
     "output_type": "stream",
     "text": [
      "downloading item 1 of 178 (sfr_catalog_0.055623.txt)\n",
      "downloading item 2 of 178 (sfr_catalog_0.060123.txt)\n",
      "downloading item 3 of 178 (sfr_catalog_0.062373.txt)\n",
      "downloading item 4 of 178 (sfr_catalog_0.064623.txt)\n",
      "downloading item 5 of 178 (sfr_catalog_0.066873.txt)\n",
      "downloading item 6 of 178 (sfr_catalog_0.069123.txt)\n",
      "downloading item 7 of 178 (sfr_catalog_0.071373.txt)\n",
      "downloading item 8 of 178 (sfr_catalog_0.073623.txt)\n",
      "downloading item 9 of 178 (sfr_catalog_0.075873.txt)\n"
     ]
    }
   ],
   "source": [
    "from simim.siminterface import UniversemachineCatalogs\n",
    "\n",
    "um = UniversemachineCatalogs('UniverseMachine-BolshoiPlanck') # Automatically assumes all snaps, no API key required for UM catalogs\n",
    "um.download_meta(redownload=True) # Redownload metadata any time you use a different set of snapshots\n",
    "um.download()\n",
    "um.format() # basic flag isn't set, so more properties are saved"
   ]
  },
  {
   "cell_type": "markdown",
   "metadata": {},
   "source": [
    "# Loading Simulation Data"
   ]
  },
  {
   "cell_type": "code",
   "execution_count": null,
   "metadata": {},
   "outputs": [],
   "source": [
    "from simim.siminterface import SimHandler\n",
    "\n",
    "tng = SimHandler('TNG100-3-Dark')"
   ]
  },
  {
   "cell_type": "code",
   "execution_count": null,
   "metadata": {},
   "outputs": [],
   "source": [
    "for k in tng.metadata:\n",
    "    print(k, tng.metadata[k])\n",
    "print(tng.metadata['snapshots'].dtype)"
   ]
  },
  {
   "cell_type": "code",
   "execution_count": null,
   "metadata": {},
   "outputs": [],
   "source": [
    "print(\"The snapshot closest to redshift {} is {}\".format(1.5,tng.z_to_snap(1.5)))\n",
    "print(\"The snapshot closest to redshift {} is {}\".format(0,tng.z_to_snap(0)))"
   ]
  },
  {
   "cell_type": "code",
   "execution_count": null,
   "metadata": {},
   "outputs": [],
   "source": [
    "snap = tng.get_snap(99)"
   ]
  },
  {
   "cell_type": "code",
   "execution_count": null,
   "metadata": {},
   "outputs": [],
   "source": [
    "print(snap.properties_all)"
   ]
  },
  {
   "cell_type": "markdown",
   "metadata": {},
   "source": [
    "# Quick Visualizations"
   ]
  },
  {
   "cell_type": "code",
   "execution_count": null,
   "metadata": {},
   "outputs": [],
   "source": [
    "snap.hist('mass')"
   ]
  },
  {
   "cell_type": "code",
   "execution_count": null,
   "metadata": {},
   "outputs": [],
   "source": [
    "snap.hist('mass',\n",
    "          logtransform=True,\n",
    "          axkws={'xlabel':'log Halo Mass','ylabel':'Number of Halos','yscale':'log'})"
   ]
  },
  {
   "cell_type": "code",
   "execution_count": null,
   "metadata": {},
   "outputs": [],
   "source": [
    "snap.hist('mass',\n",
    "          logtransform=True,\n",
    "          axkws={'xlabel':'log Halo Mass','ylabel':'Cumulative Fraction of Halos'},\n",
    "          plotkws={'cumulative':True,'histtype':'step','density':True})"
   ]
  },
  {
   "cell_type": "code",
   "execution_count": null,
   "metadata": {},
   "outputs": [],
   "source": [
    "snap.plot('pos_x','pos_y',\n",
    "          axkws={'xlabel':'X Position [Mpc]','ylabel':'Y Position [Mpc]'},\n",
    "          plotkws={'marker':',','color':'k'},\n",
    "          in_h_units=False)"
   ]
  },
  {
   "cell_type": "code",
   "execution_count": null,
   "metadata": {},
   "outputs": [],
   "source": [
    "snap.plot('pos_x','pos_y',\n",
    "          axkws={'xlabel':'X Position [Mpc]','ylabel':'Y Position [Mpc]',\n",
    "                 'aspect':'equal','xlim':(0,snap.box_edge_no_h),'ylim':(0,snap.box_edge_no_h)},\n",
    "          plotkws={'marker':',','color':'k'},\n",
    "          in_h_units=False)"
   ]
  },
  {
   "cell_type": "code",
   "execution_count": null,
   "metadata": {},
   "outputs": [],
   "source": [
    "snap.set_property_range('pos_z',0,20)\n",
    "snap.plot('pos_x','pos_y',\n",
    "          axkws={'xlabel':'X Position [Mpc]','ylabel':'Y Position [Mpc]',\n",
    "                 'aspect':'equal','xlim':(0,snap.box_edge_no_h),'ylim':(0,snap.box_edge_no_h)},\n",
    "          plotkws={'marker':',','color':'k'},\n",
    "          in_h_units=False)"
   ]
  },
  {
   "cell_type": "code",
   "execution_count": null,
   "metadata": {},
   "outputs": [],
   "source": [
    "snap.set_property_range()"
   ]
  },
  {
   "cell_type": "markdown",
   "metadata": {},
   "source": [
    "**Exercise:** Plot TNG100-3's halo mass function for redshift 0. The halo mass\n",
    "function gives the number of halos per unit volume and unit mass (or log unit\n",
    "mass) as a function of halo mass.\n",
    "\n",
    "Remember you can access the simulation box size witht the .box_edge or\n",
    ".box_edge_no_h attributes. You can find the relevant keywords to pass to\n",
    "snap.hist in the matplotlib documentation:\n",
    "https://matplotlib.org/stable/api/_as_gen/matplotlib.pyplot.hist.html"
   ]
  },
  {
   "cell_type": "code",
   "execution_count": null,
   "metadata": {},
   "outputs": [],
   "source": [
    "# Your solution here\n",
    "\n",
    "# Ryan's solution:\n",
    "bins = np.logspace(10,15,51)\n",
    "normalization = np.ones(snap.nhalos_active) / snap.box_edge_no_h**3 / np.log10(bins[1]/bins[0])\n",
    "\n",
    "snap.hist('mass',\n",
    "          logtransform=False,\n",
    "          axkws={'xlabel':'Halo Mass [M$_\\odot$]','ylabel':'HMF [Mpc$^{-3}$ dex$^{-1}$]','yscale':'log','xscale':'log','xlim':(2e10,1e15)},\n",
    "          plotkws={'color':'.5','histtype':'step','bins':bins,'weights':normalization})"
   ]
  },
  {
   "cell_type": "markdown",
   "metadata": {},
   "source": [
    "# Accessing Data Fields"
   ]
  },
  {
   "cell_type": "code",
   "execution_count": null,
   "metadata": {},
   "outputs": [],
   "source": [
    "masses = snap.return_property('mass')\n",
    "\n",
    "fig, ax = plt.subplots()\n",
    "ax.set(xlabel='Halo Mass [M$_\\odot$]',\n",
    "       ylabel='HMF [Mpc$^{-3}$ dex$^{-1}$]',\n",
    "       xscale='log',\n",
    "       yscale='log',\n",
    "       xlim=(2e10,1e15))\n",
    "\n",
    "bins = np.logspace(10,15,51)\n",
    "normalization = 1 / snap.box_edge_no_h**3 / np.log10(bins[1]/bins[0])\n",
    "\n",
    "hist, bins = np.histogram(masses,bins)\n",
    "hist = hist * normalization\n",
    "bin_centers = np.sqrt(bins[1:]*bins[:-1])\n",
    "\n",
    "ax.plot(bin_centers, hist, color='.5')\n",
    "\n",
    "plt.show()"
   ]
  },
  {
   "cell_type": "markdown",
   "metadata": {},
   "source": [
    "# Adding Galaxy Properties"
   ]
  },
  {
   "cell_type": "code",
   "execution_count": null,
   "metadata": {},
   "outputs": [],
   "source": [
    "from simim.galprops import prop_behroozi_sfr\n",
    "\n",
    "snap.make_property(prop_behroozi_sfr,overwrite=True)\n",
    "\n",
    "bins = np.logspace(-2.5,2.5,51)\n",
    "normalization = np.ones(snap.nhalos_active) / snap.box_edge_no_h**3 / np.log10(bins[1]/bins[0])\n",
    "snap.hist('sfr',\n",
    "          logtransform=False,\n",
    "          axkws={'xlabel':r'SFR [M$_\\odot$/yr]','ylabel':'SFRDF [Mpc$^{-3}$ dex$^{-1}$]','yscale':'log','xscale':'log','xlim':(.01,30)},\n",
    "          plotkws={'color':'.5','histtype':'step','bins':bins,'weights':normalization})"
   ]
  },
  {
   "cell_type": "markdown",
   "metadata": {},
   "source": [
    "SimIM differentiates properties into a few different classes - all of this is to make working with large simulation datasets possible on small machines."
   ]
  },
  {
   "cell_type": "code",
   "execution_count": null,
   "metadata": {},
   "outputs": [],
   "source": [
    "print(\"All properties (snap.properties_all): \", snap.properties_all)\n",
    "print(\"Properties loaded in memory (snap.properties_loaded): \", snap.properties_loaded)\n",
    "print(\"Properties written to disk (snap.properties_saved): \", snap.properties_saved)\n",
    "print(\"Properties generated in the current session (snap.properties_generated): \", snap.properties_generated)"
   ]
  },
  {
   "cell_type": "markdown",
   "metadata": {},
   "source": [
    "Adding a proprety to a snapshot is by defualt not a permanent operation. 'sfr' is not in the properties written to disk list. So reloading the snapshot will result in our added SFR being lost."
   ]
  },
  {
   "cell_type": "code",
   "execution_count": null,
   "metadata": {},
   "outputs": [],
   "source": [
    "print(\"The properties after adding SFR are: \", snap.properties_all)\n",
    "snap = tng.get_snap(99)\n",
    "print(\"But after reloading SFR is gone: \", snap.properties_all)"
   ]
  },
  {
   "cell_type": "markdown",
   "metadata": {},
   "source": [
    "But we can write them to disk if necessary"
   ]
  },
  {
   "cell_type": "code",
   "execution_count": null,
   "metadata": {},
   "outputs": [],
   "source": [
    "snap.make_property(prop_behroozi_sfr)\n",
    "snap.write_property('sfr')"
   ]
  },
  {
   "cell_type": "code",
   "execution_count": null,
   "metadata": {},
   "outputs": [],
   "source": [
    "print(\"All properties (snap.properties_all): \", snap.properties_all)\n",
    "print(\"Properties loaded in memory (snap.properties_loaded): \", snap.properties_loaded)\n",
    "print(\"Properties written to disk (snap.properties_saved): \", snap.properties_saved)\n",
    "print(\"Properties generated in the current session (snap.properties_generated): \", snap.properties_generated)\n",
    "\n",
    "snap = tng.get_snap(99)\n",
    "print(\"And after reloading SFR is still present (note it may have moved in the list): \", snap.properties_all)"
   ]
  },
  {
   "cell_type": "markdown",
   "metadata": {},
   "source": [
    "For checking if a property exits:"
   ]
  },
  {
   "cell_type": "code",
   "execution_count": null,
   "metadata": {},
   "outputs": [],
   "source": [
    "print(snap.has_property('sfr'))"
   ]
  },
  {
   "cell_type": "markdown",
   "metadata": {},
   "source": [
    "For removing a property:"
   ]
  },
  {
   "cell_type": "code",
   "execution_count": null,
   "metadata": {},
   "outputs": [],
   "source": [
    "snap.delete_property('sfr')\n",
    "print(snap.has_property('sfr'))"
   ]
  },
  {
   "cell_type": "markdown",
   "metadata": {},
   "source": [
    "# Defining New Properties"
   ]
  },
  {
   "cell_type": "markdown",
   "metadata": {},
   "source": [
    "We can define our own properties"
   ]
  },
  {
   "cell_type": "code",
   "execution_count": null,
   "metadata": {},
   "outputs": [],
   "source": [
    "from simim.galprops import Prop\n",
    "\n",
    "def lcii(sfr):\n",
    "    return sfr * 8.3e6\n",
    "\n",
    "prop_lcii = Prop(prop_name='lcii',\n",
    "                 prop_function=lcii,\n",
    "                 kwargs=['sfr'])"
   ]
  },
  {
   "cell_type": "code",
   "execution_count": null,
   "metadata": {},
   "outputs": [],
   "source": [
    "snap.make_property(prop_behroozi_sfr,overwrite=True)\n",
    "snap.make_property(prop_lcii,overwrite=True)"
   ]
  },
  {
   "cell_type": "code",
   "execution_count": null,
   "metadata": {},
   "outputs": [],
   "source": [
    "bins = np.logspace(-2.5+7,2.5+7,51)\n",
    "normalization = np.ones(snap.nhalos_active) / snap.box_edge_no_h**3 / np.log10(bins[1]/bins[0])\n",
    "\n",
    "snap.hist('lcii',\n",
    "          logtransform=False,\n",
    "          axkws={'xlabel':'L$_\\mathregular{CII}$ [L$_\\odot$]','ylabel':'SFRDF [Mpc$^{-3}$ dex$^{-1}$]','yscale':'log','xscale':'log','xlim':(1e5,3e8)},\n",
    "          plotkws={'color':'.5','histtype':'step','bins':bins,'weights':normalization})\n",
    "\n",
    "snap.plot('sfr','lcii',\n",
    "          axkws={'xlabel':'SFR [M$_\\odot$/yr]','ylabel':'L$_\\mathregular{CII}$ [L$_\\odot$]','yscale':'log','xscale':'log'},\n",
    "          plotkws={'marker':',','color':'k'})"
   ]
  },
  {
   "cell_type": "markdown",
   "metadata": {},
   "source": [
    "# More Complex Properties"
   ]
  },
  {
   "cell_type": "markdown",
   "metadata": {},
   "source": [
    "We can define properties using functions of arbitrary sophistication."
   ]
  },
  {
   "cell_type": "code",
   "execution_count": null,
   "metadata": {},
   "outputs": [],
   "source": [
    "from simim.galprops import log10normal\n",
    "\n",
    "def lcii_scatter(sfr, rng):\n",
    "    \"\"\"Take an array of SFRs and a numpy RNG instance,\n",
    "    return a CII luminosity with 0.25 dex scatter\"\"\"\n",
    "\n",
    "    lcii = sfr * 8.3e6\n",
    "    norm = rng.normal(loc=0,scale=.25,size=len(lcii))\n",
    "    lcii = lcii * 10**norm\n",
    "\n",
    "    return lcii\n",
    "\n",
    "prop_lcii_scatter = Prop(prop_name='lcii',\n",
    "                 prop_function=lcii_scatter,\n",
    "                 kwargs=['sfr'])"
   ]
  },
  {
   "cell_type": "markdown",
   "metadata": {},
   "source": [
    "Note that our new property requires an 'rng' parameter, which the simulation\n",
    "doesn't contain. We'll have to tell the our snapshot how to evaluate this when\n",
    "assigning the property."
   ]
  },
  {
   "cell_type": "code",
   "execution_count": null,
   "metadata": {},
   "outputs": [],
   "source": [
    "our_rng = np.random.default_rng(seed=157)\n",
    "snap.make_property(prop_lcii_scatter,\n",
    "                   rename='lcii2',\n",
    "                   other_kws={'rng':our_rng},\n",
    "                   overwrite=True)\n"
   ]
  },
  {
   "cell_type": "code",
   "execution_count": null,
   "metadata": {},
   "outputs": [],
   "source": [
    "bins = np.logspace(-2.5+7,2.5+7,51)\n",
    "normalization = np.ones(snap.nhalos_active) / snap.box_edge_no_h**3 / np.log10(bins[1]/bins[0])\n",
    "snap.hist('lcii2','lcii',\n",
    "          logtransform=False,\n",
    "          axkws={'xlabel':'L$_\\mathregular{CII}$ [L$_\\odot$]','ylabel':'SFRDF [Mpc$^{-3}$ dex$^{-1}$]','yscale':'log','xscale':'log','xlim':(1e5,3e8)},\n",
    "          plotkws={'histtype':'step','bins':bins,'weights':normalization})\n",
    "\n",
    "snap.plot('sfr','lcii2','lcii',\n",
    "          axkws={'xlabel':'SFR [M$_\\odot$/yr]','ylabel':'L$_\\mathregular{CII}$ [L$_\\odot$]','yscale':'log','xscale':'log'},\n",
    "          plotkws={'marker':','})"
   ]
  },
  {
   "cell_type": "markdown",
   "metadata": {},
   "source": [
    "**Exercise:** Schaerer et al. 2020 find a correlation between CII luminosity and\n",
    "SFR of the form \n",
    "$$ L_{\\rm CII} = a \\times {\\rm SFR} + b$$\n",
    "where $a = 1.17$ and $b = 6.61$. Implement this scaling relation and add it \n",
    "to the snapshot as 'lcii_schaerer'. Bonus: include a 0.4 dex scatter around \n",
    "the mean $L_{\\rm CII}$."
   ]
  },
  {
   "cell_type": "markdown",
   "metadata": {},
   "source": [
    "# Built in Properties"
   ]
  },
  {
   "cell_type": "code",
   "execution_count": null,
   "metadata": {},
   "outputs": [],
   "source": [
    "from simim.galprops import prop_delooze_fir, prop_schaerer_cii, prop_padmanabhan_cii, prop_yang_cii\n",
    "\n",
    "snap.make_property(prop_delooze_fir,rename='lcii_dl',overwrite=True)\n",
    "snap.make_property(prop_schaerer_cii,rename='lcii_s',overwrite=True)\n",
    "snap.make_property(prop_padmanabhan_cii,rename='lcii_p',overwrite=True)"
   ]
  },
  {
   "cell_type": "code",
   "execution_count": null,
   "metadata": {},
   "outputs": [],
   "source": [
    "bins = np.logspace(-2.5+7,2.5+7,51)\n",
    "normalization = np.ones(snap.nhalos_active) / snap.box_edge_no_h**3 / np.log10(bins[1]/bins[0])\n",
    "snap.hist('lcii2','lcii_dl','lcii_s','lcii_p',\n",
    "          logtransform=False,\n",
    "          axkws={'xlabel':'L$_\\mathregular{CII}$ [L$_\\odot$]','ylabel':'SFRDF [Mpc$^{-3}$ dex$^{-1}$]','yscale':'log','xscale':'log','xlim':(1e5,3e8)},\n",
    "          plotkws={'histtype':'step','bins':bins,'weights':normalization})\n",
    "\n",
    "snap.plot('sfr','lcii2','lcii_dl','lcii_s','lcii_p',\n",
    "          axkws={'xlabel':'SFR [M$_\\odot$/yr]','ylabel':'L$_\\mathregular{CII}$ [L$_\\odot$]',\n",
    "                 'yscale':'log','xscale':'log',\n",
    "                 'ylim':(1e3,1e9)},\n",
    "          plotkws={'marker':','})"
   ]
  },
  {
   "cell_type": "markdown",
   "metadata": {},
   "source": [
    "# Random Number Seeds"
   ]
  },
  {
   "cell_type": "markdown",
   "metadata": {},
   "source": [
    "Many prescriptions involve an element of randomness. It's often useful to be\n",
    "able to control this by setting a seed for a the random number generator being\n",
    "used. Built in properties that require a random number always provide the option\n",
    "to pass a numpy random number generator object to control the seed. For example,\n",
    "to use the same set of random numbers for each CII prescription:"
   ]
  },
  {
   "cell_type": "code",
   "execution_count": null,
   "metadata": {},
   "outputs": [],
   "source": [
    "# Comparison of De Looze and Schaere CII luminosities with different seeds:\n",
    "snap.plot('lcii_s','lcii_dl',\n",
    "          axkws={'xscale':'log','yscale':'log',\n",
    "                 'xlabel':'Schaerer LCII','ylabel':'De Looze CII'},\n",
    "          plotkws={'marker':','})"
   ]
  },
  {
   "cell_type": "code",
   "execution_count": null,
   "metadata": {},
   "outputs": [],
   "source": [
    "snap.make_property(prop_behroozi_sfr,overwrite=True,other_kws={'rng':np.random.default_rng(seed=656)})\n",
    "\n",
    "snap.make_property(prop_delooze_fir,rename='lcii_dl',overwrite=True,other_kws={'rng':np.random.default_rng(seed=157)})\n",
    "snap.make_property(prop_schaerer_cii,rename='lcii_s',overwrite=True,other_kws={'rng':np.random.default_rng(seed=157)})\n",
    "snap.make_property(prop_padmanabhan_cii,rename='lcii_p',overwrite=True,other_kws={'rng':np.random.default_rng(seed=157)})\n",
    "\n",
    "snap.plot('lcii_s','lcii_dl',\n",
    "          axkws={'xscale':'log','yscale':'log',\n",
    "                 'xlabel':'Schaerer LCII','ylabel':'De Looze CII'},\n",
    "          plotkws={'marker':','})"
   ]
  },
  {
   "cell_type": "markdown",
   "metadata": {},
   "source": [
    "# Operations on Multiple Snapshots"
   ]
  },
  {
   "cell_type": "code",
   "execution_count": null,
   "metadata": {},
   "outputs": [],
   "source": [
    "tng.make_property(prop_behroozi_sfr,write=True,overwrite=True)"
   ]
  },
  {
   "cell_type": "markdown",
   "metadata": {},
   "source": [
    "Note that here we have written these properties to disk."
   ]
  },
  {
   "cell_type": "code",
   "execution_count": null,
   "metadata": {},
   "outputs": [],
   "source": [
    "snap = tng.get_snap(99)\n",
    "print(\"All properties (snap.properties_all): \", snap.properties_all)"
   ]
  },
  {
   "cell_type": "markdown",
   "metadata": {},
   "source": [
    "# Evaluating Statistics"
   ]
  },
  {
   "cell_type": "code",
   "execution_count": null,
   "metadata": {},
   "outputs": [],
   "source": [
    "def volume_mean(x, box_edge_no_h):\n",
    "    v = box_edge_no_h**3\n",
    "    s = np.sum(x)\n",
    "    return s / v\n",
    "\n",
    "sfrds, redshifts = tng.snap_stat(volume_mean, kwargs=['x','box_edge_no_h'], kw_remap={'x':'sfr'})\n",
    "times = tng.cosmo.age(redshifts).value"
   ]
  },
  {
   "cell_type": "code",
   "execution_count": null,
   "metadata": {},
   "outputs": [],
   "source": [
    "fig, ax = plt.subplots()\n",
    "ax.set(xlabel='Age of Universe [Gyr]',ylabel='SFRD [M$_\\odot$ yr$^{-1}$ Mpc$^{-3}$]',yscale='log')\n",
    "ax.set(xlim=(13.5,0))\n",
    "ax.plot(times, sfrds)\n",
    "\n",
    "plt.show()"
   ]
  },
  {
   "cell_type": "code",
   "execution_count": null,
   "metadata": {},
   "outputs": [],
   "source": [
    "bin_edges = np.logspace(-3,3,61)\n",
    "bin_centers = np.sqrt(bin_edges[1:]*bin_edges[:-1])\n",
    "\n",
    "def dist_func(x, box_edge_no_h, bin_edges):\n",
    "    v = box_edge_no_h**3\n",
    "    d = np.diff(np.log10(bin_edges))\n",
    "    hist, bins = np.histogram(x, bin_edges)\n",
    "    df = hist / v / d\n",
    "    return df\n",
    "\n",
    "sfrdfs, redshifts = tng.snap_stat(dist_func, kwargs=['x','box_edge_no_h'], kw_remap={'x':'sfr'}, other_kws={'bin_edges':bin_edges})\n",
    "times = tng.cosmo.age(redshifts).value"
   ]
  },
  {
   "cell_type": "code",
   "execution_count": null,
   "metadata": {},
   "outputs": [],
   "source": [
    "fig, ax = plt.subplots()\n",
    "fig.subplots_adjust(left=.15,right=.85,top=.95,bottom=.15)\n",
    "ax.set(xlabel=r'SFR [M$_\\odot$/yr]', ylabel='SFRDF [Mpc$^{-3}$ dex$^{-1}$]', \n",
    "       xscale='log', yscale='log',\n",
    "       xlim=(.05,500))\n",
    "\n",
    "ax_cb = fig.add_axes([.87,.15,.03,.8])\n",
    "norm = Normalize(vmin=0, vmax=max(times))\n",
    "sm = plt.cm.ScalarMappable(cmap='Spectral',norm=norm)\n",
    "fig.colorbar(sm, cax=ax_cb, label='Age of Universe [Gyr]')\n",
    "\n",
    "for sfrdf, t in zip(sfrdfs, times):\n",
    "    ax.plot(bin_centers, sfrdf, color=colormaps['Spectral'](norm(t)))\n",
    "\n",
    "plt.show()"
   ]
  },
  {
   "cell_type": "markdown",
   "metadata": {},
   "source": [
    "**Exercise:** Compute and plot the redshift evolution of the CII luminosity function and the CII luminosity volume density ($\\sum L_{\\rm CII} / V$) of the universe as a function of redshift for one of the CII models we implemented above for redshift 0. \n",
    "\n",
    "Bonus: Compare the redshift history of a few different models."
   ]
  },
  {
   "cell_type": "code",
   "execution_count": null,
   "metadata": {},
   "outputs": [],
   "source": [
    "# Your solution goes here:\n",
    "\n",
    "# Ryan's solution:\n",
    "import numpy as np\n",
    "import matplotlib.pyplot as plt\n",
    "\n",
    "from simim.siminterface import SimHandler\n",
    "tng = SimHandler('TNG100-3-Dark')\n",
    "\n",
    "from simim.galprops.sfr_bethermin17 import bethermin17_base\n",
    "from simim.galprops.sfr_ir import g13irlf_base\n",
    "from simim.galprops import Prop\n",
    "\n",
    "g13func = g13irlf_base('TNG100-3-Dark',comp=True)\n",
    "g13 = Prop('sfr_ir',prop_function=g13func.sfr,kwargs=['haloprop','redshift'])\n",
    "tng.make_property(g13,write=True,overwrite=True,kw_remap={'haloprop':'mass'})\n",
    "\n",
    "b17func = bethermin17_base('TNG100-3-Dark',sm_comp=True)\n",
    "b17sm = Prop('sm_b17',prop_function=b17func.stellarmass,kwargs=['haloprop','redshift'])\n",
    "tng.make_property(b17sm,write=True,overwrite=True,kw_remap={'haloprop':'mass'})\n",
    "b17 = Prop('sfr_b17',prop_function=b17func.sfr,kwargs=['m_stars','z'])\n",
    "tng.make_property(b17,write=True,overwrite=True,kw_remap={'m_stars':'sm_b17','z':'redshift'})\n",
    "\n",
    "def volume_mean(x, box_edge_no_h):\n",
    "    v = box_edge_no_h**3\n",
    "    s = np.nansum(x)\n",
    "    return s / v\n",
    "\n",
    "sfrds1, redshifts = tng.snap_stat(volume_mean, kwargs=['x','box_edge_no_h'], kw_remap={'x':'sfr'})\n",
    "sfrds2, _ = tng.snap_stat(volume_mean, kwargs=['x','box_edge_no_h'], kw_remap={'x':'sfr_b17'})\n",
    "sfrds3, _ = tng.snap_stat(volume_mean, kwargs=['x','box_edge_no_h'], kw_remap={'x':'sfr_ir'})\n",
    "times = tng.cosmo.age(redshifts).value\n",
    "\n",
    "fig, ax = plt.subplots()\n",
    "ax.set(xlabel='Age of Universe [Gyr]',ylabel='SFRD [M$_\\odot$ yr$^{-1}$ Mpc$^{-3}$]',yscale='log')\n",
    "ax.set(xlim=(13.5,0))\n",
    "ax.plot(times, sfrds1, label='Behroozi')\n",
    "ax.plot(times, sfrds2, label='SIDES')\n",
    "ax.plot(times, sfrds3, label='LIR')\n",
    "ax.legend()\n",
    "\n",
    "plt.show()"
   ]
  },
  {
   "cell_type": "markdown",
   "metadata": {},
   "source": [
    "## LIM Statistics"
   ]
  },
  {
   "cell_type": "markdown",
   "metadata": {},
   "source": [
    "For LIM forecasts we need to compute moments of the luminoisty function and/or \n",
    "power spectra. The following functions can be used for this (these aren't currently\n",
    "built into **SimIM**)"
   ]
  },
  {
   "cell_type": "code",
   "execution_count": null,
   "metadata": {},
   "outputs": [],
   "source": [
    "# Function to compute the CII intensity - these can be used generically by changing the wavelength...\n",
    "def mean_intensity(l_line,redshift,cosmo,box_edge_no_h,wavelength):\n",
    "\n",
    "    d = cosmo.comoving_distance(redshift).value     # comoing distance at z in Mpc\n",
    "    dl = (1+redshift)*d                             # luminosity distance to z in Mpc\n",
    "    y = wavelength * (1+redshift)**2 / (1000*cosmo.H(redshift).value)  # derivative of distance with respect to frequency in Mpc / Hz\n",
    "\n",
    "    e_line = np.nansum(l_line)/box_edge_no_h**3            # in Lsun/Mpc^3\n",
    "    s_line = e_line / (4*np.pi*dl**2) * d**2 * y      # in Lsun / Mpc^2 * Mpc^2/Sr * Mpc/Hz\n",
    "    s_line = s_line * 3.828e26                        # in W / Sr / Mpc^2 / Hz\n",
    "    s_line = s_line / (3.0857e22)**2                  # in W / Sr / m^2 / Hz\n",
    "    s_line = 1e26 * s_line                            # in Jy/Sr\n",
    "\n",
    "    return s_line\n",
    "\n",
    "# Function to compute the CII shot power - these can be used generically by changing the wavelength...\n",
    "def shot_noise(l_line,redshift,cosmo,box_edge_no_h,wavelength):\n",
    "\n",
    "    d = cosmo.comoving_distance(redshift).value     # comoing distance at z in Mpc\n",
    "    dl = (1+redshift)*d                             # luminosity distance to z in Mpc\n",
    "    y = wavelength * (1+redshift)**2 / (1000*cosmo.H(redshift).value)  # derivative of distance with respect to frequency in Mpc / Hz\n",
    "\n",
    "    e2_line = np.nansum(l_line**2)/box_edge_no_h**3            # in Lsun^2/Mpc^3\n",
    "    s2_line = e2_line / ((4*np.pi*dl**2))**2 * (d**2 * y)**2   # in Lsun^2/Mpc^3 / Mpc^4 * Mpc^4/Sr^2 * Mpc^2/Hz^2 = Lsun^2/Sr^2/Hz^2 / Mpc \n",
    "    s2_line = s2_line * 3.828e26**2                       # in W^2/Sr^2/Hz^2 / Mpc = W^2/Sr^2/Hz^2 / Mpc^4 * Mpc^3\n",
    "    s2_line = s2_line / (3.0857e22)**4                    # in W^2/Sr^2/Hz^2/m^4 * Mpc^3\n",
    "    s2_line = 1e26**2 * s2_line                           # in Jy^2/Sr^2 Mpc^3\n",
    "\n",
    "    return s2_line\n",
    "\n",
    "# Function to compute the real space power spectrum\n",
    "from simim.map import Gridder\n",
    "def powspec(pos_x,pos_y,pos_z,l_line,redshift,cosmo,box_edge_no_h,wavelength,kbins):\n",
    "    \n",
    "    if len(pos_x) == 0:\n",
    "        return None\n",
    "\n",
    "    d = cosmo.comoving_distance(redshift).value       # comoing distance at z in Mpc\n",
    "    dl = (1+redshift)*d                               # luminosity distance to z in Mpc\n",
    "    y = wavelength * (1+redshift)**2 / (1000*cosmo.H(redshift).value)  # derivative of distance with respect to frequency in Mpc / Hz\n",
    "\n",
    "    pixel_size = 1\n",
    "    side_length = (box_edge_no_h//pixel_size)*pixel_size   # Cut off the edge of the box if it doesn't match pixel size\n",
    "    center_point = np.array([side_length/2,side_length/2,side_length/2])\n",
    "\n",
    "    positions = np.array([pos_x,pos_y,pos_z]).T\n",
    "\n",
    "    intensities = l_line / pixel_size**3 / (4*np.pi*dl**2) * d**2 * y  # in Lsun/Mpc^3 / Mpc^2 * Mpc^2/Sr * Mpc/Hz\n",
    "    intensities = intensities * 3.828e26 / 3.0857e22**2 *1e26               # in Jy/Sr\n",
    "    intensities[np.isnan(intensities)] = 0\n",
    "\n",
    "    grid = Gridder(positions,intensities,center_point=center_point,side_length=side_length,pixel_size=pixel_size,axunits='Mpc',gridunits='Jy/Sr')\n",
    "    ps = grid.power_spectrum(in_place=False,normalize=True)\n",
    "\n",
    "    ax1d, ps1d = ps.spherical_average(ax=[0,1,2],shells=kbins/(2*np.pi))\n",
    "    ps1d = ps1d[:,0] / side_length**3\n",
    "\n",
    "    return ps1d"
   ]
  },
  {
   "cell_type": "markdown",
   "metadata": {},
   "source": [
    "Now we can evaluate these statistics"
   ]
  },
  {
   "cell_type": "code",
   "execution_count": null,
   "metadata": {},
   "outputs": [],
   "source": [
    "# Add CII to the simulation\n",
    "tng.make_property(prop_delooze_fir,rename='lcii_dl',write=True,overwrite=True)\n",
    "property_key = 'lcii_dl'\n",
    "\n",
    "# Evaluate statistics\n",
    "wl_cii = 157.74093e-6\n",
    "ps_bins = np.logspace(-0.5,1,36)\n",
    "ps_bin_centers = np.sqrt(ps_bins[1:]*ps_bins[:-1])\n",
    "\n",
    "ciim1, redshifts = tng.snap_stat(stat_function=mean_intensity,\n",
    "                                        kwargs=['l_line','redshift','box_edge_no_h','cosmo'],\n",
    "                                        kw_remap={'l_line':property_key},\n",
    "                                        other_kws={'wavelength':wl_cii})\n",
    "times = tng.cosmo.age(redshifts).value\n",
    "\n",
    "ciim2, _ = tng.snap_stat(stat_function=shot_noise,\n",
    "                                        kwargs=['l_line','redshift','box_edge_no_h','cosmo'],\n",
    "                                        kw_remap={'l_line':property_key},\n",
    "                                        other_kws={'wavelength':wl_cii})\n",
    "\n",
    "ciips, _ = tng.snap_stat(stat_function=powspec,\n",
    "                                        kwargs=['pos_x','pos_y','pos_z','l_line','redshift','box_edge_no_h','cosmo'],\n",
    "                                        kw_remap={'l_line':property_key},\n",
    "                                        other_kws={'wavelength':wl_cii,'kbins':ps_bins})\n"
   ]
  },
  {
   "cell_type": "code",
   "execution_count": null,
   "metadata": {},
   "outputs": [],
   "source": [
    "fig, axes = plt.subplots(1,2,figsize=(10,4))\n",
    "fig.subplots_adjust(wspace=0.4)\n",
    "axes[0].set(xlabel='Age of Universe [Gyr]',ylabel=r'$\\langle I_\\mathregular{CII}\\rangle$ [Jy str$^{-1}$]',yscale='log')\n",
    "axes[0].set(xlim=(13.5,0))\n",
    "axes[0].plot(times, ciim1)\n",
    "\n",
    "axes[1].sharex(axes[0])\n",
    "axes[1].set(xlabel='Age of Universe [Gyr]',ylabel=r'$P_\\mathregular{CII,shot}$ [Jy$^2$ str$^{-2}$ Mpc$^3$]',yscale='log')\n",
    "axes[1].plot(times, ciim2)\n",
    "\n",
    "plt.show()"
   ]
  },
  {
   "cell_type": "code",
   "execution_count": null,
   "metadata": {},
   "outputs": [],
   "source": [
    "fig, ax = plt.subplots()\n",
    "fig.subplots_adjust(left=.15,right=.85,top=.95,bottom=.15)\n",
    "ax.set(xlabel=r'k [Mpc$^{-1}$]', ylabel='P(k) [Jy$^2$ str$^{-2}$ Mpc$^3$]', \n",
    "       xscale='log', yscale='log')\n",
    "\n",
    "ax_cb = fig.add_axes([.87,.15,.03,.8])\n",
    "norm = Normalize(vmin=0, vmax=max(times))\n",
    "sm = plt.cm.ScalarMappable(cmap='Spectral',norm=norm)\n",
    "fig.colorbar(sm, cax=ax_cb, label='Age of Universe [Gyr]')\n",
    "\n",
    "for ps, t in zip(ciips, times):\n",
    "    if ps is not None:\n",
    "        ax.plot(ps_bin_centers, ps, color=colormaps['Spectral'](norm(t)))\n",
    "\n",
    "plt.show()"
   ]
  },
  {
   "cell_type": "markdown",
   "metadata": {},
   "source": [
    "**Exercise:** Generalize the $\\langle I_{\\rm CII} \\rangle$ and/or $P_{\\rm shot}$ plots for multiple CII models."
   ]
  },
  {
   "cell_type": "code",
   "execution_count": null,
   "metadata": {},
   "outputs": [],
   "source": [
    "# Your solution here:"
   ]
  },
  {
   "cell_type": "markdown",
   "metadata": {},
   "source": [
    "## Light Cones"
   ]
  },
  {
   "cell_type": "code",
   "execution_count": null,
   "metadata": {},
   "outputs": [],
   "source": [
    "from simim.lightcone import LCMaker\n",
    "\n",
    "gen = LCMaker(sim='TNG100-3-Dark', \n",
    "              name=\"demo\",\n",
    "              openangle = 1.0,\n",
    "              aspect = 1,\n",
    "              mode = 'box',\n",
    "              redshift_min = 0,\n",
    "              redshift_max = 2,\n",
    "              minimum_mass = 1e8)\n",
    "\n",
    "n_lightcones = 1\n",
    "rng = np.random.default_rng(2097)\n",
    "gen.build_lightcones(n_lightcones, rng=rng)\n",
    "gen.add_properties('sfr','lcii_dl')"
   ]
  },
  {
   "cell_type": "code",
   "execution_count": null,
   "metadata": {},
   "outputs": [],
   "source": [
    "from simim.lightcone import LCHandler\n",
    "\n",
    "lc1 = LCHandler('TNG100-3-Dark','demo',0)\n",
    "\n",
    "lc1.set_property_range('mass',1e12)\n",
    "lc1.plot('redshift','pos_y',\n",
    "         axkws={'xlabel':'redshift','ylabel':'y-position [Mpc]','xlim':(0,2)},\n",
    "         plotkws={'marker':',','color':'k'})\n",
    "lc1.set_property_range()\n",
    "\n",
    "\n",
    "lc1.set_property_range('redshift',0.99,1.01)\n",
    "lc1.plot('ra','dec',\n",
    "         axkws={'xlabel':'x-position [rad]','ylabel':'y-position [rad]','aspect':'equal','xlim':(-0.5*np.pi/180,0.5*np.pi/180),'ylim':(-0.5*np.pi/180,0.5*np.pi/180)},\n",
    "         plotkws={'marker':',','color':'k'})\n",
    "lc1.set_property_range()\n",
    "\n",
    "lc1.plot('redshift','lcii_dl',\n",
    "         axkws={'xlabel':'Redshift','ylabel':'L$_\\mathregular{CII}$ [L$_\\odot$]','xlim':(1.0,1.5),'yscale':'log'},\n",
    "         plotkws={'marker':',','color':'k'})"
   ]
  },
  {
   "cell_type": "code",
   "execution_count": null,
   "metadata": {},
   "outputs": [],
   "source": [
    "print(\"All properties (snap.properties_all): \", lc1.properties_all)\n",
    "print(\"Properties loaded in memory (snap.properties_loaded): \", lc1.properties_loaded)\n",
    "print(\"Properties written to disk (snap.properties_saved): \", lc1.properties_saved)\n",
    "print(\"Properties generated in the current session (snap.properties_generated): \", lc1.properties_generated)"
   ]
  }
 ],
 "metadata": {
  "kernelspec": {
   "display_name": "lim",
   "language": "python",
   "name": "python3"
  },
  "language_info": {
   "codemirror_mode": {
    "name": "ipython",
    "version": 3
   },
   "file_extension": ".py",
   "mimetype": "text/x-python",
   "name": "python",
   "nbconvert_exporter": "python",
   "pygments_lexer": "ipython3",
   "version": "3.9.18"
  }
 },
 "nbformat": 4,
 "nbformat_minor": 2
}
