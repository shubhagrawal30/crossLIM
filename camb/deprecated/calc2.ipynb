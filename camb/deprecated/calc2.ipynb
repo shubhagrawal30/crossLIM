{
 "cells": [
  {
   "cell_type": "code",
   "execution_count": 1,
   "metadata": {},
   "outputs": [],
   "source": [
    "import numpy as np\n",
    "import matplotlib.pyplot as plt\n",
    "from matplotlib.gridspec import GridSpec\n",
    "import os, sys, camb\n",
    "from camb import model, initialpower\n",
    "from astropy import units as u, constants as c\n",
    "from scipy.interpolate import interp1d\n",
    "\n",
    "import utils as ut\n",
    "import props as p\n",
    "import lines as l\n",
    "from importlib import reload\n",
    "reload(ut)\n",
    "reload(p)\n",
    "reload(l)\n",
    "\n",
    "TIM = p.TIM\n",
    "GAL = p.AstroDeep\n",
    "LMK = p.LADUMA # LADUMA with Meerkat\n",
    "#GAL = p.Euclid\n",
    "CII = l.CII\n",
    "HII = l.HII\n",
    "\n",
    "from astropy.cosmology import Planck18 as cosmo\n",
    "H0 = cosmo.H0.value\n",
    "h = cosmo.h\n",
    "\n",
    "sigCoef = np.sqrt(8*np.log(2))\n",
    "lilh = True\n",
    "\n",
    "dlnk = 1.2\n",
    "\n",
    "#colors = ['black', 'purple', 'blue', 'gold', 'red', 'black']\n",
    "colors = ['purple', 'blue', 'gold', 'red']\n",
    "linestyles = ['-','--',':','-.']"
   ]
  }
 ],
 "metadata": {
  "kernelspec": {
   "display_name": "lim",
   "language": "python",
   "name": "python3"
  },
  "language_info": {
   "codemirror_mode": {
    "name": "ipython",
    "version": 3
   },
   "file_extension": ".py",
   "mimetype": "text/x-python",
   "name": "python",
   "nbconvert_exporter": "python",
   "pygments_lexer": "ipython3",
   "version": "3.9.18"
  }
 },
 "nbformat": 4,
 "nbformat_minor": 2
}
